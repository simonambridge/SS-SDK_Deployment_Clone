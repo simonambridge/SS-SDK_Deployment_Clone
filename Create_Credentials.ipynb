{
 "cells": [
  {
   "cell_type": "code",
   "execution_count": null,
   "id": "cc39c4a5",
   "metadata": {},
   "outputs": [],
   "source": [
    "# Create a dictionary to hold the credentials\n",
    "credentials = {\n",
    "    \"username\": \"unused\",\n",
    "    \"password\": \"unused\",\n",
    "    \"engine_id\": \"x\",\n",
    "    \"environment_id\": \"y\",\n",
    "    \"deployment_id\": \"z\",\n",
    "    \"credential_id\": \"p\",\n",
    "    \"token\": \"q.\"\n",
    "}\n",
    "\n",
    "# Specify the path to the properties file\n",
    "file_path = \"$HOME/.sdk/sdk.properties\"\n",
    "\n",
    "# Open the file in write mode\n",
    "with open(file_path, \"w\") as f:\n",
    "    # Write the credentials dictionary to the file\n",
    "    javaproperties.dump(credentials, f)\n",
    "    \n",
    "print(\"Done\")"
   ]
  }
 ],
 "metadata": {
  "kernelspec": {
   "display_name": "Python 3 (ipykernel)",
   "language": "python",
   "name": "python3"
  },
  "language_info": {
   "codemirror_mode": {
    "name": "ipython",
    "version": 3
   },
   "file_extension": ".py",
   "mimetype": "text/x-python",
   "name": "python",
   "nbconvert_exporter": "python",
   "pygments_lexer": "ipython3",
   "version": "3.9.6"
  }
 },
 "nbformat": 4,
 "nbformat_minor": 5
}
